{
 "cells": [
  {
   "cell_type": "code",
   "execution_count": 2,
   "metadata": {
    "collapsed": true
   },
   "outputs": [],
   "source": [
    "from math import pow"
   ]
  },
  {
   "cell_type": "code",
   "execution_count": 3,
   "metadata": {
    "collapsed": false
   },
   "outputs": [
    {
     "ename": "SyntaxError",
     "evalue": "invalid syntax (<ipython-input-3-ea30a6fc921d>, line 9)",
     "output_type": "error",
     "traceback": [
      "\u001b[1;36m  File \u001b[1;32m\"<ipython-input-3-ea30a6fc921d>\"\u001b[1;36m, line \u001b[1;32m9\u001b[0m\n\u001b[1;33m    re = [((v for i in v)*dh)/vd*]                               #número de Reynolds\u001b[0m\n\u001b[1;37m                                 ^\u001b[0m\n\u001b[1;31mSyntaxError\u001b[0m\u001b[1;31m:\u001b[0m invalid syntax\n"
     ]
    }
   ],
   "source": [
    "Q = [1,2,4,8,12]                   #vazão em L/min\n",
    "QSI = [i/60000 for i in LQ]        #vazão em m^3/s\n",
    "a = 225*pow(10, -6)                #área em m^2\n",
    "v = [i/a for i in QSI]             #velocidade em m/s\n",
    "d = 1.2                            #densiade do ar em kg/m^3\n",
    "ec = [(i**2)*d*0.5 for i in v]     #energia cinética em joules\n",
    "dh = 15*pow(10, -3)                #diâmetro hidráulico em metros\n",
    "vd = 1,5*pow(10,-5)\n",
    "re = [((v for i in v)*dh)/vd*]                               #número de Reynolds\n",
    "f = 64/re                          #fator de pressão\n",
    "dpdx1 = [-i/dh for i in ec]        #perda de pressão em Pa\n",
    "dpdx2 = [i]\n",
    "\n",
    "dpdx = -f*ec/dh\n",
    "\n",
    "\n",
    "(ρV^2)/2= -1/f D_h  dP/dx"
   ]
  },
  {
   "cell_type": "code",
   "execution_count": null,
   "metadata": {
    "collapsed": true
   },
   "outputs": [],
   "source": []
  }
 ],
 "metadata": {
  "kernelspec": {
   "display_name": "Python 3",
   "language": "python",
   "name": "python3"
  },
  "language_info": {
   "codemirror_mode": {
    "name": "ipython",
    "version": 3
   },
   "file_extension": ".py",
   "mimetype": "text/x-python",
   "name": "python",
   "nbconvert_exporter": "python",
   "pygments_lexer": "ipython3",
   "version": "3.5.1"
  }
 },
 "nbformat": 4,
 "nbformat_minor": 0
}
