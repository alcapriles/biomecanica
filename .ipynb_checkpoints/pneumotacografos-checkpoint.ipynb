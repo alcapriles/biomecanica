{
 "cells": [
  {
   "cell_type": "markdown",
   "metadata": {},
   "source": [
    "## Modelagem de um pneumotacógrafo laminar e de um pneumotacógrafo turbulento "
   ]
  },
  {
   "cell_type": "markdown",
   "metadata": {},
   "source": [
    "O pneumotacógrafo é um dispostivo empregado para medir a vazão de ar entre duas tomadas de pressão. Além de medir a vazão, o\n",
    "pneumotacógrafo laminar também fornece um escoamento laminar do ar, por meio de obtenção de um número de Reynolds baixo conforme \n",
    "os parâmetros do projeto (presença da colmeia de canais). Já o pneumotacógrafo turbulento faz uso de um escoamento turbulento para \n",
    "fazer a medição da vazão de ar."
   ]
  },
  {
   "cell_type": "code",
   "execution_count": 2,
   "metadata": {
    "collapsed": true
   },
   "outputs": [],
   "source": [
    "from math import pow"
   ]
  },
  {
   "cell_type": "code",
   "execution_count": 4,
   "metadata": {
    "collapsed": false
   },
   "outputs": [
    {
     "ename": "SyntaxError",
     "evalue": "invalid syntax (<ipython-input-4-80a822e5bdef>, line 9)",
     "output_type": "error",
     "traceback": [
      "\u001b[1;36m  File \u001b[1;32m\"<ipython-input-4-80a822e5bdef>\"\u001b[1;36m, line \u001b[1;32m9\u001b[0m\n\u001b[1;33m    re = [((v for i in v)*dh)/vd*]     #número de Reynolds\u001b[0m\n\u001b[1;37m                                 ^\u001b[0m\n\u001b[1;31mSyntaxError\u001b[0m\u001b[1;31m:\u001b[0m invalid syntax\n"
     ]
    }
   ],
   "source": [
    "Q = [1,2,4,8,12]                       #vazão em L/min\n",
    "QSI = [i/60000 for i in LQ]            #vazão em m^3/s\n",
    "a = 225*pow(10, -6)                    #área em m^2\n",
    "v = [i/a for i in QSI]                 #velocidade em m/s\n",
    "d = 1.2                                #densidade do ar em kg/m^3\n",
    "ec = [(i**2)*d*0.5 for i in v]         #energia cinética em joules\n",
    "dh = 15*pow(10, -3)                    #diâmetro hidráulico em metros\n",
    "vd = 15*pow(10,-6)                     #viscosidade dinâmica\n",
    "re = []                                #número de Reynolds\n",
    "f = [64/i for i in re]                 #fator de pressão\n",
    "dpdx1 = [-i*j/dh for i,j in f,ec]      #perda de pressão em Pa\n",
    "dpdx2 = [i]\n",
    "\n",
    "dpdx = -f*ec/dh"
   ]
  },
  {
   "cell_type": "code",
   "execution_count": null,
   "metadata": {
    "collapsed": true
   },
   "outputs": [],
   "source": []
  }
 ],
 "metadata": {
  "kernelspec": {
   "display_name": "Python 3",
   "language": "python",
   "name": "python3"
  },
  "language_info": {
   "codemirror_mode": {
    "name": "ipython",
    "version": 3
   },
   "file_extension": ".py",
   "mimetype": "text/x-python",
   "name": "python",
   "nbconvert_exporter": "python",
   "pygments_lexer": "ipython3",
   "version": "3.5.1"
  }
 },
 "nbformat": 4,
 "nbformat_minor": 0
}
